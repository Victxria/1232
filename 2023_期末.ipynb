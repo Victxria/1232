{
  "nbformat": 4,
  "nbformat_minor": 0,
  "metadata": {
    "colab": {
      "provenance": [],
      "authorship_tag": "ABX9TyMbf0gqx5SDrHFMqNYozkN5",
      "include_colab_link": true
    },
    "kernelspec": {
      "name": "python3",
      "display_name": "Python 3"
    },
    "language_info": {
      "name": "python"
    }
  },
  "cells": [
    {
      "cell_type": "markdown",
      "metadata": {
        "id": "view-in-github",
        "colab_type": "text"
      },
      "source": [
        "<a href=\"https://colab.research.google.com/github/Victxria/1232/blob/main/2023_%E6%9C%9F%E6%9C%AB.ipynb\" target=\"_parent\"><img src=\"https://colab.research.google.com/assets/colab-badge.svg\" alt=\"Open In Colab\"/></a>"
      ]
    },
    {
      "cell_type": "markdown",
      "source": [
        "**Print練習**"
      ],
      "metadata": {
        "id": "ObwpRCp2hHeA"
      }
    },
    {
      "cell_type": "code",
      "execution_count": 4,
      "metadata": {
        "colab": {
          "base_uri": "https://localhost:8080/"
        },
        "id": "QkKUgqn4gaOL",
        "outputId": "d42e0932-003b-4478-cd4d-c8501e2dd71e"
      },
      "outputs": [
        {
          "output_type": "stream",
          "name": "stdout",
          "text": [
            "Hello Victoria\n"
          ]
        }
      ],
      "source": [
        "print('Hello Victoria')\n"
      ]
    },
    {
      "cell_type": "markdown",
      "source": [
        "**/換行/**"
      ],
      "metadata": {
        "id": "1bRkektchtlQ"
      }
    },
    {
      "cell_type": "code",
      "source": [
        "print(\"Hello!\\nVictoria\")"
      ],
      "metadata": {
        "colab": {
          "base_uri": "https://localhost:8080/"
        },
        "id": "WUfvos0Kgk3F",
        "outputId": "ddcb6d5f-0b16-4361-ee27-d854890d5efa"
      },
      "execution_count": 8,
      "outputs": [
        {
          "output_type": "stream",
          "name": "stdout",
          "text": [
            "Hello!\n",
            "Victoria\n"
          ]
        }
      ]
    },
    {
      "cell_type": "markdown",
      "source": [
        "**/跳八格/**"
      ],
      "metadata": {
        "id": "-0O0D6zph-gZ"
      }
    },
    {
      "cell_type": "code",
      "source": [
        "print(\"Hello!\\tVictoria\")"
      ],
      "metadata": {
        "colab": {
          "base_uri": "https://localhost:8080/"
        },
        "id": "csaFUc62hpnC",
        "outputId": "571f9714-cf2c-4bdc-9e66-d514421871d9"
      },
      "execution_count": 10,
      "outputs": [
        {
          "output_type": "stream",
          "name": "stdout",
          "text": [
            "Hello!\tVictoria\n"
          ]
        }
      ]
    },
    {
      "cell_type": "markdown",
      "source": [
        "**/輸出反斜線/**"
      ],
      "metadata": {
        "id": "SYydsbWliIB_"
      }
    },
    {
      "cell_type": "code",
      "source": [
        "print(\"Hello\\\\Victoria\")"
      ],
      "metadata": {
        "colab": {
          "base_uri": "https://localhost:8080/"
        },
        "id": "wYBgseTWiQYX",
        "outputId": "b2457b6b-3697-4d17-d463-2fc3f51ae3eb"
      },
      "execution_count": 11,
      "outputs": [
        {
          "output_type": "stream",
          "name": "stdout",
          "text": [
            "Hello\\Victoria\n"
          ]
        }
      ]
    },
    {
      "cell_type": "markdown",
      "source": [
        "**/輸出單引號/**"
      ],
      "metadata": {
        "id": "Yzz9PnrJidN1"
      }
    },
    {
      "cell_type": "code",
      "source": [
        "print(\"\\\"Hello Victoria\\\"\")"
      ],
      "metadata": {
        "colab": {
          "base_uri": "https://localhost:8080/"
        },
        "id": "jmQtmcIXihi3",
        "outputId": "08c7551e-6dc6-46c6-d877-707a136ea569"
      },
      "execution_count": 12,
      "outputs": [
        {
          "output_type": "stream",
          "name": "stdout",
          "text": [
            "\"Hello Victoria\"\n"
          ]
        }
      ]
    },
    {
      "cell_type": "markdown",
      "source": [
        "**/輸出雙引號/**"
      ],
      "metadata": {
        "id": "L2vFqWEWixLx"
      }
    },
    {
      "cell_type": "code",
      "source": [
        "print(\"Let\\'s go\")"
      ],
      "metadata": {
        "colab": {
          "base_uri": "https://localhost:8080/"
        },
        "id": "845ulJOTi1S-",
        "outputId": "cbc7df3e-c7c6-430f-b958-285aa1afe46c"
      },
      "execution_count": 23,
      "outputs": [
        {
          "output_type": "stream",
          "name": "stdout",
          "text": [
            "Let's go\n"
          ]
        }
      ]
    },
    {
      "cell_type": "code",
      "source": [
        "print(“Let\\'s go”)"
      ],
      "metadata": {
        "colab": {
          "base_uri": "https://localhost:8080/",
          "height": 132
        },
        "id": "DkIS_be8mF1d",
        "outputId": "ab3b2c89-b5a9-4f13-b184-15a8330f654d"
      },
      "execution_count": 24,
      "outputs": [
        {
          "output_type": "error",
          "ename": "SyntaxError",
          "evalue": "ignored",
          "traceback": [
            "\u001b[0;36m  File \u001b[0;32m\"<ipython-input-24-ac5fbea2d957>\"\u001b[0;36m, line \u001b[0;32m1\u001b[0m\n\u001b[0;31m    print(“Let\\'s go”)\u001b[0m\n\u001b[0m          ^\u001b[0m\n\u001b[0;31mSyntaxError\u001b[0m\u001b[0;31m:\u001b[0m invalid character '“' (U+201C)\n"
          ]
        }
      ]
    }
  ]
}